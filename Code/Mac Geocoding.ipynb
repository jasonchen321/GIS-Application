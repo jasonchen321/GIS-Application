{
 "cells": [
  {
   "cell_type": "code",
   "execution_count": null,
   "metadata": {},
   "outputs": [],
   "source": [
    "import requests\n",
    "import json\n",
    "import pandas as pd"
   ]
  },
  {
   "cell_type": "code",
   "execution_count": null,
   "metadata": {},
   "outputs": [],
   "source": [
    "add = pd.read_csv('myroot/file_name.csv',delimiter='\\t')"
   ]
  },
  {
   "cell_type": "code",
   "execution_count": null,
   "metadata": {},
   "outputs": [],
   "source": [
    "add = add.values.tolist()"
   ]
  },
  {
   "cell_type": "code",
   "execution_count": null,
   "metadata": {},
   "outputs": [],
   "source": [
    "response = requests.get(\"https://api.tomtom.com/search/2/geocode/澳門媽閣廟前地一號.json?countrySet=MO&lat=37.337&lon=-121.89&topLeft=37.553%2C-122.453&btmRight=37.4%2C-122.55&language=zh-TW&key=UJQpPv18GXBXaN4J3W5myUazZtTdDzG8\")\n",
    "response = json.loads(response.text)"
   ]
  },
  {
   "cell_type": "code",
   "execution_count": null,
   "metadata": {},
   "outputs": [],
   "source": [
    "addr = []\n",
    "for i in range(len(add)):\n",
    "    for j in add[i]:\n",
    "        addr.append(j)"
   ]
  },
  {
   "cell_type": "code",
   "execution_count": null,
   "metadata": {
    "scrolled": true
   },
   "outputs": [],
   "source": [
    "District=[]\n",
    "Street_name=[]\n",
    "House_number=[]\n",
    "Lat=[]\n",
    "Lon=[]\n",
    "for i in addr:\n",
    "    response = requests.get(\"https://api.tomtom.com/search/2/geocode/\"+i+\".json?countrySet=MO&lat=37.337&lon=-121.89&topLeft=37.553%2C-122.453&btmRight=37.4%2C-122.55&language=zh-TW&key=UJQpPv18GXBXaN4J3W5myUazZtTdDzG8\")\n",
    "    response = json.loads(response.text)\n",
    "    try:\n",
    "        x = response['results'][0]['position']['lon']\n",
    "        y = response['results'][0]['position']['lat']\n",
    "        street = response['results'][0]['address']['streetName']\n",
    "        House = response['results'][0]['address']['streetNumber']\n",
    "        #dist = response['results'][0]['address']['municipalitySubdivision']\n",
    "    except Exception as e:\n",
    "        if 'local' in str(e):\n",
    "            dist = \"\"\n",
    "        elif 'Number' in str(e):\n",
    "            House = \"\"\n",
    "        elif 'Name' in str(e):\n",
    "            street = \"\"\n",
    "        else:\n",
    "            dist = \"\"\n",
    "            street = \"\"\n",
    "            House = \"\"\n",
    "            x = \"\"\n",
    "            y = \"\"\n",
    "                   \n",
    "    #District.append(dist)\n",
    "    Street_name.append(street)\n",
    "    House_number.append(House)\n",
    "    Lat.append(y)\n",
    "    Lon.append(x)\n",
    "    print(i)"
   ]
  },
  {
   "cell_type": "code",
   "execution_count": null,
   "metadata": {},
   "outputs": [],
   "source": [
    "df = pd.DataFrame({'Address':addr,'Street name':Street_name,'House number':House_number,'Lat':Lat,'Lon':Lon}, columns=['Address','Street name','House number','Lat','Lon'])"
   ]
  },
  {
   "cell_type": "code",
   "execution_count": null,
   "metadata": {},
   "outputs": [],
   "source": [
    "df.to_excel('mtroot/file_name.xlsx')"
   ]
  },
  {
   "cell_type": "code",
   "execution_count": null,
   "metadata": {},
   "outputs": [],
   "source": []
  },
  {
   "cell_type": "code",
   "execution_count": null,
   "metadata": {},
   "outputs": [],
   "source": []
  }
 ],
 "metadata": {
  "kernelspec": {
   "display_name": "Python 3",
   "language": "python",
   "name": "python3"
  },
  "language_info": {
   "codemirror_mode": {
    "name": "ipython",
    "version": 3
   },
   "file_extension": ".py",
   "mimetype": "text/x-python",
   "name": "python",
   "nbconvert_exporter": "python",
   "pygments_lexer": "ipython3",
   "version": "3.8.5"
  }
 },
 "nbformat": 4,
 "nbformat_minor": 2
}
