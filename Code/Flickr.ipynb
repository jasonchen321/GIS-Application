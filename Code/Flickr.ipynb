{
 "cells": [
  {
   "cell_type": "markdown",
   "metadata": {},
   "source": [
    "# Collect XY in Photo from Flickr\n",
    "In order to make trip map from others: \n",
    "1. Use Flickr API to find photo\n",
    "2. Find XY information in Photo",
    "3. Print out XY information"
   ]
  },
  {
   "cell_type": "code",
   "execution_count": null,
   "metadata": {},
   "outputs": [],
   "source": [
    "import requests\n",
    "import xml.etree.ElementTree as ET"
   ]
  },
  {
   "cell_type": "code",
   "execution_count": null,
   "metadata": {},
   "outputs": [],
   "source": [
    "url = requests.get('https://api.flickr.com/services/rest/?method=flickr.photos.search&api_key=d4a5002aa2ecb97b22c595b26f81f21a&bbox=120.44886574266,23.97440325,121.48828513997,24.76579855')"
   ]
  },
  {
   "cell_type": "code",
   "execution_count": null,
   "metadata": {},
   "outputs": [],
   "source": [
    "xml = ET.fromstring(url.content)\n",
    "page = xml.find('photos').get('pages')\n",
    "photo = xml.findall('photos/photo')\n",
    "p_id = []\n",
    "count = 0"
   ]
  },
  {
   "cell_type": "code",
   "execution_count": null,
   "metadata": {},
   "outputs": [],
   "source": [
    "for p in page:\n",
    "    requests.get('https://api.flickr.com/services/rest/?method=flickr.photos.search&api_key=d4a5002aa2ecb97b22c595b26f81f21a&bbox=120.44886574266,23.97440325,121.48828513997,24.76579855'&'page'=p)\n",
    "    for id in photo:\n",
    "        id1 = id.get('id')\n",
    "        p_id.append(id1)\n",
    "        count +=1\n"
   ]
  },
  {
   "cell_type": "code",
   "execution_count": null,
   "metadata": {},
   "outputs": [],
   "source": [
    "print(p_id)\n",
    "print(count)"
   ]
  },
  {
   "cell_type": "code",
   "execution_count": null,
   "metadata": {},
   "outputs": [],
   "source": []
  }
 ],
 "metadata": {
  "kernelspec": {
   "display_name": "Python 3",
   "language": "python",
   "name": "python3"
  },
  "language_info": {
   "codemirror_mode": {
    "name": "ipython",
    "version": 3
   },
   "file_extension": ".py",
   "mimetype": "text/x-python",
   "name": "python",
   "nbconvert_exporter": "python",
   "pygments_lexer": "ipython3",
   "version": "3.6.4"
  }
 },
 "nbformat": 4,
 "nbformat_minor": 2
}
